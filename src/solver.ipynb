{
 "cells": [
  {
   "cell_type": "code",
   "execution_count": 19,
   "metadata": {},
   "outputs": [],
   "source": [
    "from fenics import *\n",
    "import numpy as np\n",
    "from tqdm import tqdm\n",
    "import pyvista as pv\n",
    "import meshio\n",
    "from dolfin import *\n",
    "import dolfin"
   ]
  },
  {
   "cell_type": "code",
   "execution_count": 20,
   "metadata": {},
   "outputs": [],
   "source": [
    "class Problem:\n",
    "    def __init__(self, mesh, bcs):\n",
    "        self.mesh = mesh\n",
    "        self.bcs = bcs"
   ]
  },
  {
   "cell_type": "code",
   "execution_count": null,
   "metadata": {},
   "outputs": [],
   "source": [
    "class Fluid:\n",
    "    def __init__(self, rho, mu, alpha, cp):\n",
    "        self.rho = rho # Densité volumique\n",
    "        self.mu = mu # Viscosité dynamique\n",
    "        self.alpha = alpha # Diffusitivité thermique\n",
    "        self.cp = cp # Capacité thermique spécifique"
   ]
  },
  {
   "cell_type": "code",
   "execution_count": null,
   "metadata": {},
   "outputs": [],
   "source": [
    "# Define the ChorinSolver class\n",
    "class ChorinSolver:\n",
    "    def __init__(self) -> None:\n",
    "        pass\n",
    "\n",
    "    def Solve(self,\n",
    "              fluid: Fluid,\n",
    "              problem: Problem,\n",
    "              final_time: float,\n",
    "              filename: str,\n",
    "              time_step: float = 10 ** -3):\n",
    "\n",
    "        # Define function spaces\n",
    "        V = VectorFunctionSpace(problem.mesh,'Lagrange',2)\n",
    "        Q = FunctionSpace(problem.mesh,'Lagrange',1)\n",
    "\n",
    "        # Define the trial and test functions\n",
    "        u = TrialFunction(V)\n",
    "        v = TestFunction(V)\n",
    "        p = TrialFunction(Q)\n",
    "        q = TestFunction(Q)\n",
    "        t = TrialFunction(Q)\n",
    "        s = TestFunction(Q)\n",
    "\n",
    "        # à faire: Définir les conditions initiales\n",
    "        pass\n",
    "\n",
    "        # Define boundary conditions\n",
    "        ubc = []\n",
    "        pbc = []\n",
    "        tbc = []\n",
    "\n",
    "        for bc in problem.bcs:\n",
    "            field = bc[0]\n",
    "            expression = bc[1]\n",
    "            #condition = bc[2]\n",
    "            condition = CompiledSubDomain(\"near(x[0], 0) && on_boundary\")\n",
    "\n",
    "            print(f\"Applying BC on field={field}, Expression={expression}, Condition type={type(condition)}\")\n",
    "\n",
    "            if field == 0:\n",
    "                expression = Constant((0.0, 0.0))  # Velocity BC\n",
    "            elif field == 1:\n",
    "                expression = Constant(0.0)  # Pressure BC\n",
    "            elif field == 2:\n",
    "                tbc.append(DirichletBC(Q, expression, condition))\n",
    "\n",
    "        # Define the solution fields involved\n",
    "        u_prev = Function(V) # velocity at previous time step, used for time integration\n",
    "        u_tent = Function(V) # velocity before pressure correction\n",
    "        u_next = Function(V,name='U') # velocity after pressure correction, at current time step\n",
    "        p_next = Function(Q,name='P') # pressure at current time step\n",
    "        t_prev = Function(Q)\n",
    "        t_next = Function(Q,name='T')\n",
    "\n",
    "        # Define constants\n",
    "        dt = Constant(time_step)\n",
    "        rho = Constant(fluid.rho)\n",
    "        nu = Constant(fluid.mu / fluid.rho)\n",
    "        kappa = Constant(fluid.alpha/(fluid.rho*fluid.cp))\n",
    "\n",
    "        # Weak form of the momentum equation\n",
    "        F1 = (\n",
    "            (1.0 / dt) * inner(u - u_prev, v) * dx\n",
    "            + inner(grad(u_prev) * u_prev, v) * dx  # Advection term\n",
    "            + nu * inner(grad(u), grad(v)) * dx)  # Diffusion term\n",
    "\n",
    "        # Weak form of the pressure poisson problem\n",
    "        F2 = (\n",
    "            inner(grad(p), grad(q)) * dx\n",
    "            + (rho / dt) * div(u_tent) * q * dx)\n",
    "\n",
    "        # Weak form of the velocity update equation\n",
    "        F3 = (\n",
    "            inner(u, v) * dx\n",
    "            - inner(u_tent, v) * dx\n",
    "            + (dt/rho) * inner(grad(p_next), v) * dx)\n",
    "\n",
    "        # Weak form of heat transfer equation\n",
    "        F4 = (\n",
    "            (1.0 / dt) * inner(t - t_prev, s) * dx\n",
    "            + dot(u_next, grad(t_prev)) * s * dx  # Advection\n",
    "            + kappa * inner(grad(t_prev), grad(s)) * dx  # Diffusion term\n",
    "        )\n",
    "\n",
    "        # Split equations into lhs and rhs\n",
    "        a1, L1 = system(F1)\n",
    "        a2, L2 = system(F2)\n",
    "        a3, L3 = system(F3)\n",
    "        a4, L4 = system(F4)\n",
    "        \n",
    "        # Assemble matricies\n",
    "        A1 = assemble(a1)\n",
    "        A2 = assemble(a2)\n",
    "        A3 = assemble(a3)\n",
    "        A4 = assemble(a4)\n",
    "\n",
    "        # Applying BCs to A matrecies\n",
    "        [bc.apply(A1) for bc in ubc]\n",
    "        [bc.apply(A2) for bc in pbc]\n",
    "        [bc.apply(A3) for bc in ubc]\n",
    "        [bc.apply(A4) for bc in tbc]\n",
    "\n",
    "        # Time loop\n",
    "        # Creating file for saving results\n",
    "        with XDMFFile(MPI.comm_world, f'{filename}.xdmf') as file:\n",
    "            file.parameters.update(\n",
    "                {\n",
    "                    \"functions_share_mesh\": True,\n",
    "                    \"rewrite_function_mesh\": False\n",
    "                })\n",
    "            # Saving initial states\n",
    "            file.write(u_next,0)\n",
    "            file.write(p_next,0)\n",
    "            file.write(t_next,0)\n",
    "\n",
    "            # Use amg preconditioner if available\n",
    "            prec = \"amg\" if has_krylov_solver_preconditioner(\"amg\") else \"default\"\n",
    "\n",
    "            n_iters = final_time // time_step\n",
    "            # Simulation\n",
    "            for i in tqdm(range(int(n_iters))):\n",
    "                # (1) Solve for tentative velocity\n",
    "                b1 = assemble(L1)\n",
    "                [bc.apply(b1) for bc in ubc]\n",
    "                solve(A1, u_tent.vector(), b1)\n",
    "\n",
    "                # (2) Solve for the pressure\n",
    "                b2 = assemble(L2)\n",
    "                [bc.apply(b2) for bc in pbc]\n",
    "                solve(A2, p_next.vector(), b2)\n",
    "\n",
    "                # (3) Correct the velocities to be incompressible\n",
    "                b3 = assemble(L3)\n",
    "                [bc.apply(b3) for bc in ubc]\n",
    "                solve(A3, u_next.vector(), b3)\n",
    "\n",
    "                # (4) Solve heat advection-diffusion equation\n",
    "                b4 = assemble(L4)\n",
    "                [bc.apply(b4) for bc in tbc]\n",
    "                solve(A4, t_next.vector(), b4)\n",
    "\n",
    "                # Save to file\n",
    "                file.write(u_next, i*time_step)\n",
    "                file.write(p_next, i*time_step)\n",
    "                file.write(t_next, i*time_step)\n",
    "\n",
    "                # Advance in time\n",
    "                t_prev.assign(t_next)\n",
    "                u_prev.assign(u_next)"
   ]
  },
  {
   "cell_type": "code",
   "execution_count": 48,
   "metadata": {},
   "outputs": [
    {
     "name": "stdout",
     "output_type": "stream",
     "text": [
      "['data0', 'data1']\n"
     ]
    }
   ],
   "source": [
    "import h5py\n",
    "with h5py.File(\"wind_tunnel.h5\", \"r\") as f:\n",
    "    print(list(f.keys()))"
   ]
  },
  {
   "cell_type": "code",
   "execution_count": 49,
   "metadata": {},
   "outputs": [],
   "source": [
    "mesh = meshio.read(\"wind_tunnel.xdmf\")\n",
    "meshio.write(\"wind_tunnel_fixed.xdmf\", mesh)"
   ]
  },
  {
   "cell_type": "code",
   "execution_count": 50,
   "metadata": {},
   "outputs": [],
   "source": [
    "mesh = dolfin.Mesh()\n",
    "try:\n",
    "    with dolfin.XDMFFile(\"wind_tunnel.xdmf\") as infile:\n",
    "        infile.read(mesh)\n",
    "except RuntimeError as e:\n",
    "    print(\"Error:\", e)"
   ]
  },
  {
   "cell_type": "code",
   "execution_count": 51,
   "metadata": {},
   "outputs": [],
   "source": [
    "# Define boundary conditions\n",
    "def boundary_walls(x, on_boundary):\n",
    "    return on_boundary\n",
    "\n",
    "def boundary_inlet(x, on_boundary):\n",
    "    return on_boundary and near(x[0], 0.0)\n",
    "\n",
    "def boundary_outlet(x, on_boundary):\n",
    "    return on_boundary and near(x[0], 10.0)\n",
    "\n",
    "# Define expressions for boundary conditions\n",
    "u_inlet = Expression(('1.0', '0.0'), degree=2)\n",
    "u_walls = Expression(('0.0', '0.0'), degree=2)\n",
    "p_outlet = Expression('0.0', degree=1)\n",
    "\n",
    "# Define boundary conditions list\n",
    "bcs = [\n",
    "    (0, u_inlet, boundary_inlet),  # Velocity inlet\n",
    "    (0, u_walls, boundary_walls),  # No-slip on walls\n",
    "    (1, p_outlet, boundary_outlet) # Pressure outlet\n",
    "]\n",
    "\n",
    "# Create problem instance\n",
    "problem = Problem(mesh, bcs)"
   ]
  },
  {
   "cell_type": "code",
   "execution_count": 52,
   "metadata": {},
   "outputs": [],
   "source": [
    "# Define fluid properties\n",
    "rho = 1.0  # Density\n",
    "mu = 0.01  # Dynamic viscosity\n",
    "alpha = 0.01  # Thermal diffusivity\n",
    "cp = 1.0  # Specific heat capacity\n",
    "\n",
    "# Create fluid instance\n",
    "fluid = Fluid(rho, mu, alpha, cp)"
   ]
  },
  {
   "cell_type": "code",
   "execution_count": 53,
   "metadata": {},
   "outputs": [],
   "source": [
    "# Create solver instance\n",
    "solver = ChorinSolver()"
   ]
  },
  {
   "cell_type": "code",
   "execution_count": 54,
   "metadata": {},
   "outputs": [
    {
     "name": "stdout",
     "output_type": "stream",
     "text": [
      "Applying BC on field=0, Expression=f_52, Condition type=<class 'dolfin.cpp.mesh.SubDomain'>\n",
      "Applying BC on field=0, Expression=f_53, Condition type=<class 'dolfin.cpp.mesh.SubDomain'>\n",
      "Applying BC on field=1, Expression=f_54, Condition type=<class 'dolfin.cpp.mesh.SubDomain'>\n",
      "Calling FFC just-in-time (JIT) compiler, this may take some time.\n",
      "Calling FFC just-in-time (JIT) compiler, this may take some time.\n",
      "Calling FFC just-in-time (JIT) compiler, this may take some time.\n",
      "Calling FFC just-in-time (JIT) compiler, this may take some time.\n",
      "Calling FFC just-in-time (JIT) compiler, this may take some time.\n",
      "Calling FFC just-in-time (JIT) compiler, this may take some time.\n",
      "Calling FFC just-in-time (JIT) compiler, this may take some time.\n",
      "Calling FFC just-in-time (JIT) compiler, this may take some time.\n",
      "Calling FFC just-in-time (JIT) compiler, this may take some time.\n",
      "Calling FFC just-in-time (JIT) compiler, this may take some time.\n"
     ]
    },
    {
     "name": "stderr",
     "output_type": "stream",
     "text": [
      "  0%|          | 0/999 [00:00<?, ?it/s]"
     ]
    },
    {
     "name": "stdout",
     "output_type": "stream",
     "text": [
      "Calling FFC just-in-time (JIT) compiler, this may take some time.\n",
      "Calling FFC just-in-time (JIT) compiler, this may take some time.\n",
      "Calling FFC just-in-time (JIT) compiler, this may take some time.\n",
      "Calling FFC just-in-time (JIT) compiler, this may take some time.\n"
     ]
    },
    {
     "name": "stderr",
     "output_type": "stream",
     "text": [
      "100%|██████████| 999/999 [03:56<00:00,  4.23it/s]\n"
     ]
    }
   ],
   "source": [
    "# Run the solver\n",
    "final_time = 1.0\n",
    "time_step = 1e-3\n",
    "filename = \"results\"\n",
    "\n",
    "solver.Solve(fluid, problem, final_time, filename, time_step)"
   ]
  }
 ],
 "metadata": {
  "kernelspec": {
   "display_name": "project_fisa_a1",
   "language": "python",
   "name": "python3"
  },
  "language_info": {
   "codemirror_mode": {
    "name": "ipython",
    "version": 3
   },
   "file_extension": ".py",
   "mimetype": "text/x-python",
   "name": "python",
   "nbconvert_exporter": "python",
   "pygments_lexer": "ipython3",
   "version": "3.13.2"
  }
 },
 "nbformat": 4,
 "nbformat_minor": 2
}
