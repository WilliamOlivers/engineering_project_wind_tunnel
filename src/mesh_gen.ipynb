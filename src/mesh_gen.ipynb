{
 "cells": [
  {
   "cell_type": "markdown",
   "metadata": {},
   "source": [
    "## Wind Tunnel Mesh Generator\n",
    "### Creates 2D structured mesh with cylindrical obstacle"
   ]
  },
  {
   "cell_type": "code",
   "execution_count": 7,
   "metadata": {},
   "outputs": [],
   "source": [
    "import pygmsh\n",
    "import meshio\n",
    "import numpy as np"
   ]
  },
  {
   "cell_type": "code",
   "execution_count": 33,
   "metadata": {},
   "outputs": [],
   "source": [
    "def generate_windtunnel_mesh(\n",
    "    tunnel_length=10.0,\n",
    "    tunnel_height=2.0,\n",
    "    obstacle_radius=0.2,\n",
    "    obstacle_x=3.0,\n",
    "    obstacle_y=1.0,\n",
    "    mesh_resolution=0.1,\n",
    "    output_file=\"wind_tunnel\"\n",
    "):\n",
    "    \"\"\"\n",
    "    Generate 2D wind tunnel mesh with cylindrical obstacle\n",
    "    \n",
    "    Args:\n",
    "        tunnel_length: Total length of tunnel (x-direction)\n",
    "        tunnel_height: Height of tunnel (y-direction)\n",
    "        obstacle_radius: Radius of cylindrical obstacle\n",
    "        obstacle_x: X-position of obstacle center\n",
    "        obstacle_y: Y-position of obstacle center\n",
    "        mesh_resolution: Target mesh element size\n",
    "        output_file: Base name for output files\n",
    "    \"\"\"\n",
    "    \n",
    "    with pygmsh.occ.Geometry() as geom:\n",
    "        # Set mesh resolution parameters\n",
    "        geom.characteristic_length_min = mesh_resolution\n",
    "        geom.characteristic_length_max = mesh_resolution * 1.5\n",
    "\n",
    "        # Create wind tunnel rectangle\n",
    "        tunnel = geom.add_rectangle(\n",
    "            [0.0, 0.0, 0.0], \n",
    "            tunnel_length, \n",
    "            tunnel_height\n",
    "        )\n",
    "\n",
    "        # Create cylindrical obstacle\n",
    "        cylinder = geom.add_disk(\n",
    "            [obstacle_x, obstacle_y, 0.0], \n",
    "            obstacle_radius\n",
    "        )\n",
    "\n",
    "        # Subtract cylinder from tunnel\n",
    "        geom.boolean_difference(tunnel, cylinder)\n",
    "\n",
    "        # Generate 2D mesh\n",
    "        mesh = geom.generate_mesh(dim=2)\n",
    "\n",
    "        # Write mesh files\n",
    "        # meshio.write(f\"{output_file}.xdmf\", mesh)\n",
    "        meshio.write(f\"{output_file}.xdmf\", meshio.Mesh(points=mesh.points, cells={\"triangle\": mesh.cells_dict[\"triangle\"]}))\n",
    "\n",
    "\n",
    "        print(f\"Generated mesh with {len(mesh.points)} nodes\")\n",
    "        return mesh"
   ]
  },
  {
   "cell_type": "code",
   "execution_count": 34,
   "metadata": {},
   "outputs": [
    {
     "name": "stdout",
     "output_type": "stream",
     "text": [
      "dict_keys(['line', 'triangle', 'vertex'])\n"
     ]
    }
   ],
   "source": [
    "print(mesh.cells_dict.keys())  # Should contain \"triangle\" s"
   ]
  },
  {
   "cell_type": "code",
   "execution_count": 36,
   "metadata": {},
   "outputs": [
    {
     "name": "stdout",
     "output_type": "stream",
     "text": [
      "Generated mesh with 1175 nodes                                                                                                                 \n"
     ]
    }
   ],
   "source": [
    "if __name__ == \"__main__\":\n",
    "    # Example usage with default parameters\n",
    "    mesh = generate_windtunnel_mesh()"
   ]
  }
 ],
 "metadata": {
  "kernelspec": {
   "display_name": "project_fisa_a1",
   "language": "python",
   "name": "python3"
  },
  "language_info": {
   "codemirror_mode": {
    "name": "ipython",
    "version": 3
   },
   "file_extension": ".py",
   "mimetype": "text/x-python",
   "name": "python",
   "nbconvert_exporter": "python",
   "pygments_lexer": "ipython3",
   "version": "3.13.2"
  }
 },
 "nbformat": 4,
 "nbformat_minor": 2
}
